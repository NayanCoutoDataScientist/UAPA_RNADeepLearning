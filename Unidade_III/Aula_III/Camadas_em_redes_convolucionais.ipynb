{
 "cells": [
  {
   "metadata": {},
   "cell_type": "markdown",
   "source": "# Videoaula: Camadas em redes convolucionais",
   "id": "1b27e32483163e7b"
  },
  {
   "metadata": {},
   "cell_type": "markdown",
   "source": "## Camadas de Pooling e Max Pooling",
   "id": "ee4976441b7f679"
  },
  {
   "metadata": {},
   "cell_type": "markdown",
   "source": [
    "> Esta camada recebe as saídas do mapa, originado na camada convolucional, e para ela cria um mapa de características condensado.\n",
    "\n",
    "> A camada de pooling é capaz de resumir uma região de neurônios da camada anterior.\n",
    "\n",
    "> Na maioria das ocasiões ocorre o Max-Pooling, onde uma unidade gera uma unidade máxima em sua respectiva região de entrada.\n",
    "\n",
    "> No pooling temos a camada convolucional com multiplos mapas de características, e desta forma, cada mapa recebe o Max Pooling, separadamente.\n",
    "\n",
    "> Generalizando, temos que o Max-Pooling permite que seja encontrada a informação da localização aproximada de certo parâmetro em uma imagem, embora não mantenha a sua localização exata.\n",
    "\n",
    "> O que importa aqui é a localização com relação aos outros elementos e recursos da imagem, por exemplo.\n",
    "\n",
    "> Este processo acumula muto menos recursos, o que indica a existência de uma menor quantidade de parâmetros para as camadas seguintes.\n",
    "\n",
    "> Como opção ao Max-Pooling existe o Pooling L2, que realiza a raiz quadrada para a soma dos quadrados das ativações de uma determinada região.\n",
    "\n",
    "> Mas a \"intuição\" é semelhante nos processos de Pooling L2 e Max-Pooling, pois ambos condensam as informações da camada convolucional.\n",
    "\n",
    "> A camada de conexão final conecta cada neurônio na camada de agrupamento máximo a cada um dos 10 neurônios de saída.\n",
    "\n",
    "> Essa arquitetura totalmente conectada é a mesma usada no capítulo anterior.\n",
    "\n",
    "> Tenho uma rede que consiste em muitas entidades simples cujo comportamento é determinado por seus pesos e vieses. O objetivo geral é o mesmo.\n",
    "\n",
    "> Os dados de treinamento devem ser utilizados para aprender os pesos e vieses da rede para que a rede classifique adequadamente os dígitos de entrada."
   ],
   "id": "e6809b8c53bbd337"
  },
  {
   "metadata": {},
   "cell_type": "markdown",
   "source": [
    "Principais projetos que contribuíram para as arquiteturas atuais de Redes Neurais:\n",
    "\n",
    "**- LeNET:** Criado em 1998, contém as camadas de convolução e a respectiva sequência CONV - POOL - CONV - POOL - FC - FC.\n",
    "\n",
    "**- AlexNET:** Criado em 2012, com 5 camadas de convolução, 128 de Batch e inaugurou o uso da função de ativação ReLU.\n",
    "\n",
    "**- VGG:** Criada em 2014 apresentando filtros menores para ser aplicada em redes com maior profundidade, ou seja, mais de 12 convoluções para Max-Pooling de 2x2. O grande problema é a demanda por memória ram."
   ],
   "id": "ddca56ea051f60de"
  },
  {
   "metadata": {},
   "cell_type": "markdown",
   "source": "# Pré-processamento em ConvNets",
   "id": "e00ab577095246e2"
  },
  {
   "metadata": {},
   "cell_type": "markdown",
   "source": "## Execução de algoritmo utilizando a camada Max Pooling",
   "id": "17b6ea85cd55fa97"
  },
  {
   "metadata": {
    "ExecuteTime": {
     "end_time": "2024-06-13T00:06:10.533291Z",
     "start_time": "2024-06-13T00:05:51.082949Z"
    }
   },
   "cell_type": "code",
   "source": [
    "import numpy as np\n",
    "from tf_keras.models import Sequential\n",
    "from tf_keras.layers import MaxPooling2D"
   ],
   "id": "3e061b77092bb287",
   "outputs": [
    {
     "name": "stdout",
     "output_type": "stream",
     "text": [
      "WARNING:tensorflow:From C:\\Users\\Nayan Couto\\.conda\\envs\\POO\\Lib\\site-packages\\tf_keras\\src\\losses.py:2976: The name tf.losses.sparse_softmax_cross_entropy is deprecated. Please use tf.compat.v1.losses.sparse_softmax_cross_entropy instead.\n",
      "\n"
     ]
    }
   ],
   "execution_count": 1
  },
  {
   "metadata": {
    "ExecuteTime": {
     "end_time": "2024-06-13T00:08:53.929479Z",
     "start_time": "2024-06-13T00:08:53.921631Z"
    }
   },
   "cell_type": "code",
   "source": [
    "# Define input image\n",
    "image = np.array([\n",
    "    [2, 2, 7, 3],\n",
    "    [9, 4, 6, 1],\n",
    "    [8, 5, 2, 4],\n",
    "    [3, 1, 2, 6],\n",
    "                  ])\n",
    "\n",
    "image = image.reshape(1, 4, 4, 1)"
   ],
   "id": "a7fd661b5b1d29e3",
   "outputs": [],
   "execution_count": 2
  },
  {
   "metadata": {
    "ExecuteTime": {
     "end_time": "2024-06-13T00:10:21.877434Z",
     "start_time": "2024-06-13T00:10:21.256251Z"
    }
   },
   "cell_type": "code",
   "source": [
    "# Define model containing just a single max pooling layer\n",
    "model = Sequential([MaxPooling2D(pool_size= 2, strides= 2)])"
   ],
   "id": "f035106e1564ceb5",
   "outputs": [
    {
     "name": "stdout",
     "output_type": "stream",
     "text": [
      "WARNING:tensorflow:From C:\\Users\\Nayan Couto\\.conda\\envs\\POO\\Lib\\site-packages\\tf_keras\\src\\layers\\pooling\\max_pooling2d.py:161: The name tf.nn.max_pool is deprecated. Please use tf.nn.max_pool2d instead.\n",
      "\n",
      "WARNING:tensorflow:From C:\\Users\\Nayan Couto\\.conda\\envs\\POO\\Lib\\site-packages\\tf_keras\\src\\backend.py:873: The name tf.get_default_graph is deprecated. Please use tf.compat.v1.get_default_graph instead.\n",
      "\n"
     ]
    }
   ],
   "execution_count": 3
  },
  {
   "metadata": {
    "ExecuteTime": {
     "end_time": "2024-06-13T00:11:00.927256Z",
     "start_time": "2024-06-13T00:10:45.666102Z"
    }
   },
   "cell_type": "code",
   "source": [
    "# Generated pooled output\n",
    "output = model.predict(image)"
   ],
   "id": "8a55795c8249a0b2",
   "outputs": [
    {
     "name": "stdout",
     "output_type": "stream",
     "text": [
      "1/1 [==============================] - 15s 15s/step\n"
     ]
    }
   ],
   "execution_count": 4
  },
  {
   "metadata": {
    "ExecuteTime": {
     "end_time": "2024-06-13T00:11:35.380329Z",
     "start_time": "2024-06-13T00:11:35.372058Z"
    }
   },
   "cell_type": "code",
   "source": [
    "# Print output image\n",
    "output = np.squeeze(output)\n",
    "print(output)"
   ],
   "id": "aeecf48670a3b0b",
   "outputs": [
    {
     "name": "stdout",
     "output_type": "stream",
     "text": [
      "[[9 7]\n",
      " [8 6]]\n"
     ]
    }
   ],
   "execution_count": 5
  },
  {
   "metadata": {},
   "cell_type": "markdown",
   "source": "## Execução de algoritmo utilizando a camada Pooling médio",
   "id": "841cc2a6e2f1ef97"
  },
  {
   "metadata": {
    "ExecuteTime": {
     "end_time": "2024-06-13T00:17:51.858557Z",
     "start_time": "2024-06-13T00:17:51.851661Z"
    }
   },
   "cell_type": "code",
   "source": [
    "import numpy as np\n",
    "from tf_keras.models import Sequential\n",
    "from tf_keras.layers import AveragePooling2D\n",
    "import tensorflow as tf"
   ],
   "id": "1c18a02739a293d6",
   "outputs": [],
   "execution_count": 15
  },
  {
   "metadata": {
    "ExecuteTime": {
     "end_time": "2024-06-13T00:17:53.397297Z",
     "start_time": "2024-06-13T00:17:53.391285Z"
    }
   },
   "cell_type": "code",
   "source": [
    "# Define input image\n",
    "image = np.array([\n",
    "    [2, 2, 7, 3],\n",
    "    [9, 4, 6, 1],\n",
    "    [8, 5, 2, 4],\n",
    "    [3, 1, 2, 6],\n",
    "                  ])"
   ],
   "id": "520364c72d5804a1",
   "outputs": [],
   "execution_count": 16
  },
  {
   "metadata": {
    "ExecuteTime": {
     "end_time": "2024-06-13T00:17:54.243804Z",
     "start_time": "2024-06-13T00:17:54.230962Z"
    }
   },
   "cell_type": "code",
   "source": [
    "image = image.reshape(1, 4, 4, 1)\n",
    "image = tf.cast(image, tf.float32)  # Convert to float32"
   ],
   "id": "49136e141a95a068",
   "outputs": [],
   "execution_count": 17
  },
  {
   "metadata": {
    "ExecuteTime": {
     "end_time": "2024-06-13T00:17:56.247088Z",
     "start_time": "2024-06-13T00:17:56.237553Z"
    }
   },
   "cell_type": "code",
   "source": [
    "# Define model containing just a single max pooling layer\n",
    "model = Sequential([AveragePooling2D(pool_size= 2, strides= 2)])"
   ],
   "id": "d2b1783e578c19b",
   "outputs": [],
   "execution_count": 18
  },
  {
   "metadata": {
    "ExecuteTime": {
     "end_time": "2024-06-13T00:17:57.852770Z",
     "start_time": "2024-06-13T00:17:57.380623Z"
    }
   },
   "cell_type": "code",
   "source": [
    "# Generated pooled output\n",
    "output = model.predict(image)"
   ],
   "id": "7b7ace7ab810700a",
   "outputs": [
    {
     "name": "stdout",
     "output_type": "stream",
     "text": [
      "1/1 [==============================] - 0s 393ms/step\n"
     ]
    }
   ],
   "execution_count": 19
  },
  {
   "metadata": {
    "ExecuteTime": {
     "end_time": "2024-06-13T00:18:18.785179Z",
     "start_time": "2024-06-13T00:18:18.777328Z"
    }
   },
   "cell_type": "code",
   "source": [
    "# Print output image\n",
    "output = np.squeeze(output)\n",
    "print(output)"
   ],
   "id": "8ed3415b458d4200",
   "outputs": [
    {
     "name": "stdout",
     "output_type": "stream",
     "text": [
      "[[4.25 4.25]\n",
      " [4.25 3.5 ]]\n"
     ]
    }
   ],
   "execution_count": 20
  },
  {
   "metadata": {},
   "cell_type": "markdown",
   "source": "## Execução do algoritmo utilizando camada de agrupamento global",
   "id": "fccbd94d61ac068f"
  },
  {
   "metadata": {
    "ExecuteTime": {
     "end_time": "2024-06-13T00:25:37.613321Z",
     "start_time": "2024-06-13T00:25:37.606553Z"
    }
   },
   "cell_type": "code",
   "source": [
    "import numpy as np\n",
    "from tf_keras.models import Sequential\n",
    "from tf_keras.layers import GlobalAveragePooling2D, GlobalMaxPooling2D\n",
    "import tensorflow as tf"
   ],
   "id": "d626ee3059f3219f",
   "outputs": [],
   "execution_count": 25
  },
  {
   "metadata": {
    "ExecuteTime": {
     "end_time": "2024-06-13T00:25:39.920869Z",
     "start_time": "2024-06-13T00:25:39.914297Z"
    }
   },
   "cell_type": "code",
   "source": [
    "# Define input image\n",
    "image = np.array([\n",
    "    [2, 2, 7, 3],\n",
    "    [9, 4, 6, 1],\n",
    "    [8, 5, 2, 4],\n",
    "    [3, 1, 2, 6],\n",
    "                  ])"
   ],
   "id": "f8a1485ee079f2ad",
   "outputs": [],
   "execution_count": 26
  },
  {
   "metadata": {
    "ExecuteTime": {
     "end_time": "2024-06-13T00:25:40.687123Z",
     "start_time": "2024-06-13T00:25:40.681407Z"
    }
   },
   "cell_type": "code",
   "source": [
    "image = image.reshape(1, 4, 4, 1)\n",
    "image = tf.cast(image, tf.float32)  # Convert to float32"
   ],
   "id": "d0c0b8834564638b",
   "outputs": [],
   "execution_count": 27
  },
  {
   "metadata": {
    "ExecuteTime": {
     "end_time": "2024-06-13T00:25:44.768246Z",
     "start_time": "2024-06-13T00:25:44.754057Z"
    }
   },
   "cell_type": "code",
   "source": [
    "# Define model containing just a single max pooling layer\n",
    "gm_model = Sequential([GlobalMaxPooling2D()])\n",
    "ga_model = Sequential([GlobalAveragePooling2D()])"
   ],
   "id": "ccf93efe7e5d43ab",
   "outputs": [],
   "execution_count": 28
  },
  {
   "metadata": {
    "ExecuteTime": {
     "end_time": "2024-06-13T00:25:55.586677Z",
     "start_time": "2024-06-13T00:25:54.367613Z"
    }
   },
   "cell_type": "code",
   "source": [
    "# Generated pooled output\n",
    "gm_output = gm_model.predict(image)\n",
    "ga_output = ga_model.predict(image)"
   ],
   "id": "6c06df23af97297d",
   "outputs": [
    {
     "name": "stdout",
     "output_type": "stream",
     "text": [
      "1/1 [==============================] - 1s 784ms/step\n",
      "1/1 [==============================] - 0s 306ms/step\n"
     ]
    }
   ],
   "execution_count": 29
  },
  {
   "metadata": {
    "ExecuteTime": {
     "end_time": "2024-06-13T00:27:05.751078Z",
     "start_time": "2024-06-13T00:27:05.741973Z"
    }
   },
   "cell_type": "code",
   "source": [
    "# Print output image\n",
    "gm_output = np.squeeze(gm_output)\n",
    "ga_output = np.squeeze(ga_output)\n",
    "print(f'gm_output: {gm_output}\\nga_output: {ga_output}\\n')"
   ],
   "id": "69455ce3162cf4c4",
   "outputs": [
    {
     "name": "stdout",
     "output_type": "stream",
     "text": [
      "gm_output: 9.0\n",
      "ga_output: 4.0625\n",
      "\n"
     ]
    }
   ],
   "execution_count": 30
  },
  {
   "metadata": {},
   "cell_type": "code",
   "outputs": [],
   "execution_count": null,
   "source": "",
   "id": "909f50849d6cf950"
  }
 ],
 "metadata": {
  "kernelspec": {
   "display_name": "Python 3",
   "language": "python",
   "name": "python3"
  },
  "language_info": {
   "codemirror_mode": {
    "name": "ipython",
    "version": 2
   },
   "file_extension": ".py",
   "mimetype": "text/x-python",
   "name": "python",
   "nbconvert_exporter": "python",
   "pygments_lexer": "ipython2",
   "version": "2.7.6"
  }
 },
 "nbformat": 4,
 "nbformat_minor": 5
}
