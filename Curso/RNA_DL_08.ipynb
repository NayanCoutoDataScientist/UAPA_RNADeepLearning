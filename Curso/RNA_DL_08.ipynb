{
 "cells": [
  {
   "metadata": {},
   "cell_type": "markdown",
   "source": "# Redes Neurais e Deep Learning 08",
   "id": "bcbff3bc424a01cf"
  },
  {
   "metadata": {},
   "cell_type": "code",
   "source": [
    "import numpy as np\n",
    "import pandas as pd\n",
    "import tensorflow as tf\n",
    "import sklearn as sk"
   ],
   "id": "bc24694df8406032",
   "outputs": [],
   "execution_count": null
  },
  {
   "metadata": {},
   "cell_type": "markdown",
   "source": [
    "# Carregando a Base de Dados\n",
    "\n",
    "https://www.kaggle.com/fedesoriano/stroke-prediction-dataset"
   ],
   "id": "57792782a5b921d5"
  },
  {
   "metadata": {},
   "cell_type": "code",
   "source": [
    "dataset = pd.read_csv(r\"D:\\Users\\Nayan Couto\\Cloud Drive\\Documentos\\Arquivos PDF, PPT, DOC\\Ciências de Dados - Anhanguera Ampli\\Inteligência Artificial\\Redes Neurais e Deep Learning\\RNA_Deep_Learning\\Curso\\datasets\\stroke.csv\")\n",
    "\n",
    "dataset"
   ],
   "id": "1c3dd4458080ec8c",
   "outputs": [],
   "execution_count": null
  },
  {
   "metadata": {},
   "cell_type": "markdown",
   "source": [
    "# Pré-processamento da base de dados\n",
    "\n",
    "1. Remoção de linhas nulas\n",
    "2. Separação dos dados em X (variáveis independentes) e y (variável dependente)\n",
    "3. Transformação das variáveis categóricas em numéricas (LabelEncoder e OneHotEncoder)\n",
    "4. Separação em Teste e Treino\n",
    "5. Normalização"
   ],
   "id": "81ed45fc8719baba"
  },
  {
   "metadata": {},
   "cell_type": "code",
   "source": "dataset[dataset.isnull().any(axis=1)]",
   "id": "ece59b7702e2b806",
   "outputs": [],
   "execution_count": null
  },
  {
   "metadata": {},
   "cell_type": "code",
   "source": [
    "#dataset[dataset.isnull().any(axis=1)] quantas linhas nulas?\n",
    "dataset = dataset.dropna()\n",
    "\n",
    "dataset"
   ],
   "id": "5a55a63e0415c135",
   "outputs": [],
   "execution_count": null
  },
  {
   "metadata": {},
   "cell_type": "code",
   "source": [
    "x = dataset.iloc[:, 1:-1]\n",
    "y = dataset.iloc[:, -1]\n",
    "\n",
    "x"
   ],
   "id": "354c857d4b632b0c",
   "outputs": [],
   "execution_count": null
  },
  {
   "metadata": {},
   "cell_type": "code",
   "source": "x.dtypes",
   "id": "85248ebd7314df89",
   "outputs": [],
   "execution_count": null
  },
  {
   "metadata": {},
   "cell_type": "code",
   "source": "x['smoking_status'].unique()",
   "id": "38563cc778308df2",
   "outputs": [],
   "execution_count": null
  },
  {
   "metadata": {},
   "cell_type": "code",
   "source": [
    "from sklearn.preprocessing import LabelEncoder\n",
    "\n",
    "cols = ['ever_married', 'Residence_type'] #unique pra descobrir quantos rótulos únicos\n",
    "le = LabelEncoder()\n",
    "x[cols] = x[cols].apply(le.fit_transform)\n",
    "\n",
    "x.head(10)"
   ],
   "id": "b831bfdcaf59cd37",
   "outputs": [],
   "execution_count": null
  },
  {
   "metadata": {},
   "cell_type": "code",
   "source": [
    "from sklearn.compose import ColumnTransformer\n",
    "from sklearn.preprocessing import OneHotEncoder \n",
    "\n",
    "#https://towardsdatascience.com/columntransformer-in-scikit-for-labelencoding-and-onehotencoding-in-machine-learning-c6255952731b\n",
    "ct = ColumnTransformer(transformers=[('encoder', OneHotEncoder(), ['gender', 'work_type', 'smoking_status'])], \n",
    "                       remainder='passthrough')\n",
    "x = ct.fit_transform(x)\n",
    "\n",
    "x[0]"
   ],
   "id": "b7df46a968d1ef55",
   "outputs": [],
   "execution_count": null
  },
  {
   "metadata": {},
   "cell_type": "code",
   "source": [
    "colunas = ['ohe1', 'ohe2', 'ohe3', 'ohe4', 'ohe5', 'ohe6', 'ohe7', 'ohe8', 'ohe9', 'ohe10', 'ohe11', \n",
    "           'ohe12', 'age', 'hypertension', 'heart_disease', 'ever_married', 'Residence_type', \n",
    "           'avg_glucose_level', 'bmi']\n",
    "pd.DataFrame(x, columns=colunas)"
   ],
   "id": "24381b7b91aa236c",
   "outputs": [],
   "execution_count": null
  },
  {
   "metadata": {},
   "cell_type": "code",
   "source": [
    "from sklearn.model_selection import train_test_split\n",
    "x_train, x_test, y_train, y_test = train_test_split(x, y, test_size = 0.1)"
   ],
   "id": "1dafdb60ae1c505e",
   "outputs": [],
   "execution_count": null
  },
  {
   "metadata": {},
   "cell_type": "code",
   "source": [
    "from sklearn.preprocessing import StandardScaler\n",
    "sc = StandardScaler()\n",
    "x_train = sc.fit_transform(x_train)\n",
    "x_test = sc.transform(x_test)\n",
    "\n",
    "x_train"
   ],
   "id": "49c51eba48c4b90f",
   "outputs": [],
   "execution_count": null
  },
  {
   "metadata": {},
   "cell_type": "markdown",
   "source": "# Arquitetura de Rede Neural (MLP)",
   "id": "43760dfa87ec3949"
  },
  {
   "metadata": {},
   "cell_type": "code",
   "source": "tf.__version__",
   "id": "467b6e085a8c9099",
   "outputs": [],
   "execution_count": null
  },
  {
   "metadata": {},
   "cell_type": "code",
   "source": [
    "from sklearn.model_selection import GridSearchCV\n",
    "#from keras.models import Sequential\n",
    "#from keras.layers import Dense\n",
    "#from keras.wrappers.scikit_learn import KerasClassifier\n",
    "\n",
    "from tensorflow import keras\n",
    "from tf_keras.models import Sequential\n",
    "from tf_keras.layers import Dense\n",
    "# from tensorflow.keras.wrappers.scikit_learn import KerasClassifier\n",
    "from scikeras.wrappers import KerasClassifier"
   ],
   "id": "2afb888cc3aa2702",
   "outputs": [],
   "execution_count": null
  },
  {
   "metadata": {},
   "cell_type": "markdown",
   "source": [
    "# GridSearch na MLP\n",
    "\n",
    "https://machinelearningmastery.com/grid-search-hyperparameters-deep-learning-models-python-keras/"
   ],
   "id": "927ae1238f3367dc"
  },
  {
   "metadata": {},
   "cell_type": "code",
   "source": [
    "def create_model(optimizer='adam'):\n",
    "    ann = Sequential()\n",
    "    ann.add(Dense(units=6, activation='relu', kernel_initializer='he_normal'))\n",
    "    ann.add(Dense(units=6, activation='relu', kernel_initializer='he_normal'))\n",
    "    ann.add(Dense(units=1, activation='sigmoid'))\n",
    "    ann.compiled(optimizer=optimizer, loss='binary_crossentropy', metrics=['accuracy'])\n",
    "    \n",
    "    return ann"
   ],
   "id": "a1c67e2ea79c1a97",
   "outputs": [],
   "execution_count": null
  },
  {
   "metadata": {},
   "cell_type": "code",
   "source": [
    "# create model\n",
    "model = KerasClassifier(build_fn=create_model, verbose=2)"
   ],
   "id": "42c7196d198729fc",
   "outputs": [],
   "execution_count": null
  },
  {
   "metadata": {},
   "cell_type": "code",
   "source": [
    "# define the grid search parameters\n",
    "optimizer = ['SGD', 'Adam']\n",
    "batch_size = [16, 32, 64]\n",
    "epochs = [10, 20, 30, 40, 50]\n",
    "param_grid = dict(optimizer=optimizer, batch_size=batch_size, epochs=epochs)\n",
    "\n",
    "grid = GridSearchCV(estimator=model, param_grid=param_grid, n_jobs=None, cv=5)\n",
    "grid_result = grid.fit(x_train, y_train)"
   ],
   "id": "2785a4aaf8870295",
   "outputs": [],
   "execution_count": null
  },
  {
   "metadata": {},
   "cell_type": "markdown",
   "source": "# Resultados",
   "id": "7e048e2b64d88115"
  },
  {
   "metadata": {},
   "cell_type": "code",
   "source": [
    "# summarize results\n",
    "print(\"Best: %f using %s\" % (grid_result.best_score_, grid_result.best_params_))\n",
    "means = grid_result.cv_results_['mean_test_score']\n",
    "stds = grid_result.cv_results_['std_test_score']\n",
    "params = grid_result.cv_results_['params']\n",
    "for mean, stdev, param in zip(means, stds, params):\n",
    "    print(\"%f (%f) with: %r\" % (mean, stdev, param))"
   ],
   "id": "e36921d6b9ea3d72",
   "outputs": [],
   "execution_count": null
  },
  {
   "metadata": {},
   "cell_type": "markdown",
   "source": "# Fashion MNIST",
   "id": "6e436ceb1556b845"
  },
  {
   "metadata": {},
   "cell_type": "code",
   "source": [
    "import numpy as np\n",
    "import pandas as pd\n",
    "import tensorflow as tf\n",
    "import sklearn as sk"
   ],
   "id": "b7e6ba6851c80ada",
   "outputs": [],
   "execution_count": null
  },
  {
   "metadata": {},
   "cell_type": "markdown",
   "source": [
    "# Carregando a Base de Dados\n",
    "\n",
    "https://www.kaggle.com/zalando-research/fashionmnist"
   ],
   "id": "2fbe661d0d9cf425"
  },
  {
   "metadata": {},
   "cell_type": "code",
   "source": [
    "dataset_train = pd.read_csv(\"fashion_mnist/train.csv\")\n",
    "dataset_test = pd.read_csv(\"fashion_mnist/test.csv\")\n",
    "\n",
    "dataset_train"
   ],
   "id": "40502a595dd0343c",
   "outputs": [],
   "execution_count": null
  },
  {
   "metadata": {},
   "cell_type": "markdown",
   "source": [
    "# Pré-processamento da base de dados\n",
    "\n",
    "1. Separação dos dados em X (variáveis independentes) e y (variável dependente)\n",
    "2. Normalização"
   ],
   "id": "6c21bf5fa2299dfe"
  },
  {
   "metadata": {},
   "cell_type": "code",
   "source": [
    "X_train = dataset_train.iloc[:, 1:]\n",
    "y_train = dataset_train.iloc[:, 0]\n",
    "X_test = dataset_test.iloc[:, 1:]\n",
    "y_test = dataset_test.iloc[:, 0]\n",
    "\n",
    "X_train"
   ],
   "id": "3c566bbe81f25bac",
   "outputs": [],
   "execution_count": null
  },
  {
   "metadata": {},
   "cell_type": "code",
   "source": [
    "from sklearn.preprocessing import StandardScaler\n",
    "sc = StandardScaler()\n",
    "X_train = sc.fit_transform(X_train)\n",
    "X_test = sc.transform(X_test)\n",
    "\n",
    "X_train"
   ],
   "id": "6990c62237d5e835",
   "outputs": [],
   "execution_count": null
  },
  {
   "metadata": {},
   "cell_type": "markdown",
   "source": "# Arquitetura de Rede Neural (MLP)",
   "id": "c385515d92ec13a3"
  },
  {
   "metadata": {},
   "cell_type": "code",
   "source": "tf.__version__",
   "id": "a4a23bb16c540f84",
   "outputs": [],
   "execution_count": null
  },
  {
   "metadata": {},
   "cell_type": "code",
   "source": [
    "gpus = tf.config.list_physical_devices('GPU')\n",
    "\n",
    "gpus"
   ],
   "id": "4c48d3b8564ebb9",
   "outputs": [],
   "execution_count": null
  },
  {
   "metadata": {},
   "cell_type": "code",
   "source": [
    "from sklearn.model_selection import GridSearchCV\n",
    "from tf_keras.models import Sequential\n",
    "from tf_keras.layers import Dense\n",
    "from scikeras.wrappers import KerasClassifier"
   ],
   "id": "7241c9fadcb9d425",
   "outputs": [],
   "execution_count": null
  },
  {
   "metadata": {},
   "cell_type": "markdown",
   "source": [
    "# GridSearch na MLP\n",
    "\n",
    "https://machinelearningmastery.com/grid-search-hyperparameters-deep-learning-models-python-keras/"
   ],
   "id": "2c03b24ad3ae5a34"
  },
  {
   "metadata": {},
   "cell_type": "code",
   "source": [
    "def create_model(optimizer='adam'):\n",
    "    ann = Sequential()\n",
    "    ann.add(Dense(units=128, activation='relu', kernel_initializer='he_normal'))\n",
    "    ann.add(Dense(units=10, activation='softmax'))\n",
    "    ann.compile(optimizer=optimizer, loss='sparse_categorical_crossentropy', \n",
    "                metrics=['accuracy'])\n",
    "    \n",
    "    return ann"
   ],
   "id": "ebb7673d92fe34ff",
   "outputs": [],
   "execution_count": null
  },
  {
   "metadata": {},
   "cell_type": "code",
   "source": [
    "# create model\n",
    "model = KerasClassifier(build_fn=create_model, verbose=1)"
   ],
   "id": "1d25df68913d5586",
   "outputs": [],
   "execution_count": null
  },
  {
   "metadata": {},
   "cell_type": "code",
   "source": [
    "# define the grid search parameters\n",
    "optimizer = ['SGD', 'Adam']\n",
    "batch_size = [16, 32]\n",
    "epochs = [20, 30]\n",
    "param_grid = dict(optimizer=optimizer, batch_size=batch_size, epochs=epochs)\n",
    "\n",
    "grid = GridSearchCV(estimator=model, param_grid=param_grid, n_jobs=None, cv=5)\n",
    "grid_result = grid.fit(X_train, y_train)"
   ],
   "id": "6a99a2b21f38d456",
   "outputs": [],
   "execution_count": null
  },
  {
   "metadata": {},
   "cell_type": "markdown",
   "source": "# Resultados",
   "id": "4ef242be373db589"
  },
  {
   "metadata": {},
   "cell_type": "code",
   "source": [
    "# summarize results\n",
    "print(\"Best: %f using %s\" % (grid_result.best_score_, grid_result.best_params_))\n",
    "means = grid_result.cv_results_['mean_test_score']\n",
    "stds = grid_result.cv_results_['std_test_score']\n",
    "params = grid_result.cv_results_['params']\n",
    "for mean, stdev, param in zip(means, stds, params):\n",
    "    print(\"%f (%f) with: %r\" % (mean, stdev, param))"
   ],
   "id": "df2131e3402d720f",
   "outputs": [],
   "execution_count": null
  },
  {
   "metadata": {},
   "cell_type": "markdown",
   "source": "# Otimizando SGD",
   "id": "d281f1e9914eb6c7"
  },
  {
   "metadata": {},
   "cell_type": "code",
   "source": [
    "def create_model_SGD(neurons=128, learn_rate=0.01, momentum=0):\n",
    "    ann = Sequential()\n",
    "    ann.add(Dense(units=neurons, activation='relu', kernel_initializer='he_normal'))\n",
    "    ann.add(Dense(units=10, activation='softmax'))\n",
    "    optimizer = tf.keras.optimizers.SGD(learning_rate=learn_rate, momentum=momentum)\n",
    "    ann.compile(optimizer=optimizer, loss='sparse_categorical_crossentropy', metrics=['accuracy'])\n",
    "    \n",
    "    return ann\n",
    "\n",
    "# create model\n",
    "model = KerasClassifier(build_fn=create_model_SGD, epochs=30, batch_size=32, verbose=2)"
   ],
   "id": "ebf969b09fd0b61d",
   "outputs": [],
   "execution_count": null
  },
  {
   "metadata": {},
   "cell_type": "code",
   "source": [
    "# define the grid search parameters\n",
    "learn_rate = [0.001, 0.01, 0.1]\n",
    "momentum = [0.0, 0.2, 0.4]\n",
    "neurons = [64, 128]\n",
    "param_grid = dict(neurons=neurons, learn_rate=learn_rate, momentum=momentum)\n",
    "\n",
    "grid = GridSearchCV(estimator=model, param_grid=param_grid, n_jobs=None, cv=5)\n",
    "grid_result = grid.fit(X_train, y_train)"
   ],
   "id": "1117f4f85044391",
   "outputs": [],
   "execution_count": null
  },
  {
   "metadata": {},
   "cell_type": "code",
   "source": [
    "# summarize results\n",
    "print(\"Best: %f using %s\" % (grid_result.best_score_, grid_result.best_params_))\n",
    "means = grid_result.cv_results_['mean_test_score']\n",
    "stds = grid_result.cv_results_['std_test_score']\n",
    "params = grid_result.cv_results_['params']\n",
    "for mean, stdev, param in zip(means, stds, params):\n",
    "    print(\"%f (%f) with: %r\" % (mean, stdev, param))"
   ],
   "id": "174ae62bda7e4b46",
   "outputs": [],
   "execution_count": null
  },
  {
   "metadata": {},
   "cell_type": "markdown",
   "source": [
    "# Save best model\n",
    "https://machinelearningmastery.com/save-load-keras-deep-learning-models/"
   ],
   "id": "6c0adb1a216e09aa"
  },
  {
   "metadata": {},
   "cell_type": "code",
   "source": [
    "best_model = Sequential()\n",
    "best_model.add(Dense(units=128, activation='relu', kernel_initializer='he_normal'))\n",
    "best_model.add(Dense(units=10, activation='softmax'))\n",
    "\n",
    "opt = tf.keras.optimizers.SGD(learning_rate=0.01, momentum=0.0)\n",
    "best_model.compile(loss='sparse_categorical_crossentropy', optimizer=opt, metrics=['accuracy'])\n",
    "history = best_model.fit(X_train, y_train, epochs=30, batch_size=32)"
   ],
   "id": "af38dd4f6260435c",
   "outputs": [],
   "execution_count": null
  },
  {
   "metadata": {},
   "cell_type": "code",
   "source": [
    "loss, accuracy = best_model.evaluate(X_test, y_test)\n",
    "print('Loss: %.2f' % loss)\n",
    "print('Accuracy: %.2f' % (accuracy*100))"
   ],
   "id": "887d89cb49110fcd",
   "outputs": [],
   "execution_count": null
  },
  {
   "metadata": {},
   "cell_type": "code",
   "source": "best_model.predict(X_test)[0]",
   "id": "b4c5f63ef7333541",
   "outputs": [],
   "execution_count": null
  },
  {
   "metadata": {},
   "cell_type": "code",
   "source": [
    "model_json = best_model.to_json()\n",
    "with open(\"model.json\", \"w\") as json_file:\n",
    "    json_file.write(model_json)\n",
    "\n",
    "best_model.save_weights(\"model.h5\")\n",
    "print(\"Saved model to disk\")"
   ],
   "id": "b740615a9de34360",
   "outputs": [],
   "execution_count": null
  },
  {
   "metadata": {},
   "cell_type": "markdown",
   "source": "# Load model",
   "id": "c0f9b8c348d64c93"
  },
  {
   "metadata": {},
   "cell_type": "code",
   "source": [
    "from tf_keras.models import model_from_json\n",
    "json_file = open('model.json', 'r')\n",
    "loaded_model_json = json_file.read()\n",
    "json_file.close()\n",
    "loaded_model = model_from_json(loaded_model_json)\n",
    "loaded_model.load_weights(\"model.h5\")\n",
    "\n",
    "print(\"Loaded model from disk\")"
   ],
   "id": "97c6cec9384c5b43",
   "outputs": [],
   "execution_count": null
  }
 ],
 "metadata": {
  "kernelspec": {
   "display_name": "Python 3",
   "language": "python",
   "name": "python3"
  },
  "language_info": {
   "codemirror_mode": {
    "name": "ipython",
    "version": 2
   },
   "file_extension": ".py",
   "mimetype": "text/x-python",
   "name": "python",
   "nbconvert_exporter": "python",
   "pygments_lexer": "ipython2",
   "version": "2.7.6"
  }
 },
 "nbformat": 4,
 "nbformat_minor": 5
}
