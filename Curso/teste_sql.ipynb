{
 "cells": [
  {
   "cell_type": "code",
   "id": "initial_id",
   "metadata": {
    "collapsed": true,
    "ExecuteTime": {
     "end_time": "2024-06-01T05:10:54.077537Z",
     "start_time": "2024-06-01T05:10:53.067759Z"
    }
   },
   "source": [
    "import pandas as pd\n",
    "import numpy as np"
   ],
   "outputs": [],
   "execution_count": 1
  },
  {
   "metadata": {
    "ExecuteTime": {
     "end_time": "2024-06-01T05:40:15.302177Z",
     "start_time": "2024-06-01T05:40:15.295849Z"
    }
   },
   "cell_type": "code",
   "source": [
    "data = {\n",
    "    'Estudante' : ['João', 'Maria', 'João', 'Maria'],\n",
    "    'Disciplina' : ['Matemática', 'Matemática', 'História', 'História'],\n",
    "    'Nota' : [85, 90, 75, 80]\n",
    "}"
   ],
   "id": "9f47d16afb54f297",
   "outputs": [],
   "execution_count": 30
  },
  {
   "metadata": {
    "ExecuteTime": {
     "end_time": "2024-06-01T05:40:16.261198Z",
     "start_time": "2024-06-01T05:40:16.248326Z"
    }
   },
   "cell_type": "code",
   "source": [
    "df = pd.DataFrame(data, columns=['Estudante', 'Disciplina', 'Nota'])\n",
    "df"
   ],
   "id": "65a08592487f8d4e",
   "outputs": [
    {
     "data": {
      "text/plain": [
       "  Estudante  Disciplina  Nota\n",
       "0      João  Matemática    85\n",
       "1     Maria  Matemática    90\n",
       "2      João    História    75\n",
       "3     Maria    História    80"
      ],
      "text/html": [
       "<div>\n",
       "<style scoped>\n",
       "    .dataframe tbody tr th:only-of-type {\n",
       "        vertical-align: middle;\n",
       "    }\n",
       "\n",
       "    .dataframe tbody tr th {\n",
       "        vertical-align: top;\n",
       "    }\n",
       "\n",
       "    .dataframe thead th {\n",
       "        text-align: right;\n",
       "    }\n",
       "</style>\n",
       "<table border=\"1\" class=\"dataframe\">\n",
       "  <thead>\n",
       "    <tr style=\"text-align: right;\">\n",
       "      <th></th>\n",
       "      <th>Estudante</th>\n",
       "      <th>Disciplina</th>\n",
       "      <th>Nota</th>\n",
       "    </tr>\n",
       "  </thead>\n",
       "  <tbody>\n",
       "    <tr>\n",
       "      <th>0</th>\n",
       "      <td>João</td>\n",
       "      <td>Matemática</td>\n",
       "      <td>85</td>\n",
       "    </tr>\n",
       "    <tr>\n",
       "      <th>1</th>\n",
       "      <td>Maria</td>\n",
       "      <td>Matemática</td>\n",
       "      <td>90</td>\n",
       "    </tr>\n",
       "    <tr>\n",
       "      <th>2</th>\n",
       "      <td>João</td>\n",
       "      <td>História</td>\n",
       "      <td>75</td>\n",
       "    </tr>\n",
       "    <tr>\n",
       "      <th>3</th>\n",
       "      <td>Maria</td>\n",
       "      <td>História</td>\n",
       "      <td>80</td>\n",
       "    </tr>\n",
       "  </tbody>\n",
       "</table>\n",
       "</div>"
      ]
     },
     "execution_count": 31,
     "metadata": {},
     "output_type": "execute_result"
    }
   ],
   "execution_count": 31
  },
  {
   "metadata": {
    "ExecuteTime": {
     "end_time": "2024-06-01T05:40:17.232963Z",
     "start_time": "2024-06-01T05:40:17.227363Z"
    }
   },
   "cell_type": "code",
   "source": [
    "import pandas as pd\n",
    "import sqlite3\n",
    "\n",
    "# Create a temporary table using SQLite\n",
    "conn = sqlite3.connect(':memory:')\n",
    "cursor = conn.cursor()"
   ],
   "id": "ff138607599a9d8",
   "outputs": [],
   "execution_count": 32
  },
  {
   "metadata": {
    "ExecuteTime": {
     "end_time": "2024-06-01T05:40:18.035061Z",
     "start_time": "2024-06-01T05:40:18.025720Z"
    }
   },
   "cell_type": "code",
   "source": "df.to_sql('Notas', conn, if_exists='replace', index=False)",
   "id": "ae44414be2d9a853",
   "outputs": [
    {
     "data": {
      "text/plain": [
       "4"
      ]
     },
     "execution_count": 33,
     "metadata": {},
     "output_type": "execute_result"
    }
   ],
   "execution_count": 33
  },
  {
   "metadata": {
    "ExecuteTime": {
     "end_time": "2024-06-01T06:07:59.188757Z",
     "start_time": "2024-06-01T06:07:59.175946Z"
    }
   },
   "cell_type": "code",
   "source": [
    "# Execute SQL query\n",
    "\n",
    "sql = \"\"\"\n",
    "    SELECT Estudante,\n",
    "        SUM(CASE WHEN Disciplina = 'Matemática' THEN Nota ELSE 0 END) AS Matemática,\n",
    "        SUM(CASE WHEN Disciplina = 'História' THEN Nota ELSE 0 END) AS História\n",
    "    FROM Notas\n",
    "    GROUP BY Estudante\n",
    "\"\"\"\n",
    "cursor.execute(sql)\n",
    "\n",
    "# Retrieve results as DataFrame\n",
    "results_df = pd.read_sql_query(sql, conn)\n",
    "\n",
    "# Print the results DataFrame\n",
    "print(results_df)\n"
   ],
   "id": "fdfe92b1bfa330a8",
   "outputs": [
    {
     "name": "stdout",
     "output_type": "stream",
     "text": [
      "  Estudante  Matemática  História\n",
      "0      João          85        75\n",
      "1     Maria          90        80\n"
     ]
    }
   ],
   "execution_count": 42
  },
  {
   "metadata": {},
   "cell_type": "code",
   "outputs": [],
   "execution_count": null,
   "source": "",
   "id": "c4dc53aff9f58e37"
  }
 ],
 "metadata": {
  "kernelspec": {
   "display_name": "Python 3",
   "language": "python",
   "name": "python3"
  },
  "language_info": {
   "codemirror_mode": {
    "name": "ipython",
    "version": 2
   },
   "file_extension": ".py",
   "mimetype": "text/x-python",
   "name": "python",
   "nbconvert_exporter": "python",
   "pygments_lexer": "ipython2",
   "version": "2.7.6"
  }
 },
 "nbformat": 4,
 "nbformat_minor": 5
}
