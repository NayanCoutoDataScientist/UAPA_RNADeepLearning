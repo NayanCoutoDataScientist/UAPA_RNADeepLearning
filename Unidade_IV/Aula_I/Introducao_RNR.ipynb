{
 "cells": [
  {
   "metadata": {},
   "cell_type": "markdown",
   "source": "# Videoaula: Introdução a redes neurais recorrentes",
   "id": "e599c85918adaa40"
  },
  {
   "metadata": {},
   "cell_type": "markdown",
   "source": [
    "**Redes Neurais Recorrentes**\n",
    "> Criadas para reconhecer padrões nas sequências de dados.\n",
    "> \n",
    "> Padrões como: Discursos, o genoma, caligrafia...\n",
    "> \n",
    "> Normalmente tais dados são originados de sensores.\n",
    "> \n",
    "> Tipos mais poderosos de redes neurais, capazes de atuar até com imagens.\n",
    "> \n",
    "> Este padrão é temporal, usa padrões de dados de série temporal, o que indica que dados isolados não são tão úteis.\n",
    "\n",
    "**Aprendizado Supervisionado**\n",
    "> Exemplo: pode ser usado para prever horários de vôos com base na análise dos períodos de pico nos aeroportos.\n",
    "> \n",
    "> Lado negativo: demanda a atuação do usuário na rotulação dos conjuntos de dados seguido pelo treinamento do modelo determinado como essas variáveis podem influenciar o cronograma de vôos.\n",
    "> \n",
    "> Os modelos supervisionados necessitam conhecer os resultados e assim são capazes de concluir que um elemento como a neve, pode causar atrasos nos voos.\n",
    "\n",
    "**Aprendizado não Supervisionado**\n",
    "> Atuam sem intervenção humana.\n",
    "> \n",
    "> Lidam com estruturas de dados não rotulados.\n",
    "> \n",
    "> A única colaboração do usuário aqui é a validação das variáveis de saída.\n",
    "> \n",
    "> Exemplo: Se um cliente compra uma camisa de um famosos time de football, este modelo extrapola considerando que ele faz parte de um grupo, o de torcedores, e sugere diversos produtos relacionados a esta atividade.\n",
    "\n",
    "**Arquiteturas em Redes Neurais**\n",
    "> LSTM (Long Short-Term Memory)\n",
    ">> Tipo de RNN que \"lembra\" valores de intervalos, mesmo que arbitrários.\n",
    ">>\n",
    ">> Classifica, processa e prevê séries temporais com intervalos de tempo de duração desconhecida.\n",
    ">>\n",
    ">> Similar ao Modelo Oculto de Markov.\n",
    ">>\n",
    ">> No LSTM os parâmetros são calculados e construídos de forma diferente que nos demais modelos;\n",
    ">>\n",
    ">> Apresenta boa insensbilidade ao comprimento do GAP.\n",
    ">>\n",
    ">> Apresenta estrutura em cadeia que contém quatro redes neurais e diferentes células de memória.\n",
    ">\n",
    "> A GRU (Generalized Recurrent Unit)\n",
    ">> Similar ao LSTM.\n",
    ">>\n",
    ">> Usa o estado oculto para transferir informações.\n",
    ">>\n",
    ">> Usa dois portões, de redefinição/reset gate, e o de atualização/update date.\n",
    ">>\n",
    ">> Capaz de capturar (com adaptação), grandes sequências de dados e faz isso evitando descartar informações de partes anteriores da sequência."
   ],
   "id": "4a9f0fa5cec7c735"
  },
  {
   "metadata": {},
   "cell_type": "code",
   "outputs": [],
   "execution_count": null,
   "source": "",
   "id": "9b898e17eaec9321"
  }
 ],
 "metadata": {
  "kernelspec": {
   "display_name": "Python 3",
   "language": "python",
   "name": "python3"
  },
  "language_info": {
   "codemirror_mode": {
    "name": "ipython",
    "version": 2
   },
   "file_extension": ".py",
   "mimetype": "text/x-python",
   "name": "python",
   "nbconvert_exporter": "python",
   "pygments_lexer": "ipython2",
   "version": "2.7.6"
  }
 },
 "nbformat": 4,
 "nbformat_minor": 5
}
