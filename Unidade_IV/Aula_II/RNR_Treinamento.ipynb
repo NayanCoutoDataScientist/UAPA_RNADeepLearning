{
 "cells": [
  {
   "metadata": {},
   "cell_type": "markdown",
   "source": "# Videoaula: Treinamento",
   "id": "d176b63670f3f921"
  },
  {
   "metadata": {},
   "cell_type": "markdown",
   "source": [
    "**Treinamento de Redes Neurais**\n",
    "\n",
    "O que faz a Retropropagação?\n",
    "> Permite encontrar os pesos corretos que devem ser aplicados aos nós da rede neural pela comparação da saída atual da rede com a saída desejada.\n",
    "> \n",
    "> A diferença entre a saída desejada e a saída real é calculada pela função de perda para fazer uma previsão dada a entrada.\n",
    "> \n",
    "> Geralmente, os pesos são definidos para valores aleatórios, que geralmente produzem grandes valores de perda ao treinar redes neurais.\n",
    "\n",
    "**Retropropagação Através do Tempo**\n",
    "\n",
    "Backpropagation Through Time (BPTT)\n",
    "> Produz um algoritmo que retorna para corrigir os pesos aleatórios do modelo não treinado e seus desvios.\n",
    "> \n",
    "> Isso reduz a perda e quanto menor for a perda, mais precisa é a resposta que ela produz.\n",
    "> \n",
    "> Usar o BPTT permite a redução da saída da função de perda.\n",
    "> \n",
    "> Cada ciclo de BPTT que reduz a Perda tem o nome de época.\n",
    "> \n",
    "> Este método pode ser usado entre 8 e 10 etapas de tempo.\n",
    "\n",
    "**Treinamento: Descida do Gradiente e Otimização**\n",
    "> Faz a otimização de funções complexas interativamente dentro de um programa de computador.\n",
    "> \n",
    "> Seu objetivo é de encontrar um mínimo em alguma função arbitrária.\n",
    "> \n",
    "> Usada para encontrar os valores de parâmetros de uma função e assim minimizar as funções de custo.\n",
    "> \n",
    "> Sua aplicação ideal ocorre quando temos parâmetros que não podem ser calculados analiticamente, devendo ser tratados por algoritmos de otimização.\n",
    "> \n",
    "> Deve ser calculado o gradiente da função de custo ou a função que está sendo otimizada, mas além disso, deve ser direto.\n",
    "> \n",
    "> Aplicação:\n",
    ">> Quando o usuário realiza a comparação da saída da sua rede com a resposta certa, ele pode calcular um erro, e retroagir esse erro para poder ser capaz de ajustar os pesos de cada neurônio de cada camada.\n",
    ">>\n",
    ">> Após atualizar os pesos, uma nova amostra é introduzida e ela será multiplicada pelos pesos já atualizados.\n",
    ">>\n",
    ">> Se você observar os algoritmos mais atuais, todos trabalham dentro de um conceito relativamente novo chamado de mini-lotes (mini-batches).\n",
    ">>\n",
    ">> Uma forma de otimizar a performance do modelo é gerar os mini-lotes, fazendo passar pelo modelo diversas amostras , calculando o erro médio delas para o backpropagation."
   ],
   "id": "7c1411862c2d6d5d"
  },
  {
   "metadata": {},
   "cell_type": "code",
   "outputs": [],
   "execution_count": null,
   "source": "",
   "id": "7cbf53e4108ed1d7"
  }
 ],
 "metadata": {
  "kernelspec": {
   "display_name": "Python 3",
   "language": "python",
   "name": "python3"
  },
  "language_info": {
   "codemirror_mode": {
    "name": "ipython",
    "version": 2
   },
   "file_extension": ".py",
   "mimetype": "text/x-python",
   "name": "python",
   "nbconvert_exporter": "python",
   "pygments_lexer": "ipython2",
   "version": "2.7.6"
  }
 },
 "nbformat": 4,
 "nbformat_minor": 5
}
