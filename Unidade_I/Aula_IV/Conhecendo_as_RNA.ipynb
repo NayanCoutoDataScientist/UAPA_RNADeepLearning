{
 "cells": [
  {
   "metadata": {},
   "cell_type": "markdown",
   "source": "# Videoaula: Conhecendo as redes neurais",
   "id": "8e629c38b28683a1"
  },
  {
   "metadata": {},
   "cell_type": "markdown",
   "source": [
    "**Perceptron**\n",
    "\n",
    "O que ele Faz?\n",
    "\n",
    "> Calcula a soma ponderada das entradas (inputs).\n",
    "> Multiplica pelos pesos (w).\n",
    "> Representa a totalidade dos sinais de entrada.\n",
    "> Aplica a função que determina sua saída (output).\n",
    "\n",
    "Resumindo:\n",
    "\n",
    "> Pesa evidências a partir de entradas com atributos a fim de tomar decisões.\n",
    "> Algoritmo de aprendizado supervisionado de classificadores binários: decide se uma entrada, representada por um vetor de números, pertence ou não a uma classe específica."
   ],
   "id": "a7e865ab3c67737a"
  },
  {
   "metadata": {
    "ExecuteTime": {
     "end_time": "2024-05-31T03:15:15.988689Z",
     "start_time": "2024-05-31T03:15:15.971800Z"
    }
   },
   "cell_type": "code",
   "source": [
    "from IPython.display import Image\n",
    "PATH = r\"D:\\Users\\Nayan Couto\\Cloud Drive\\Documentos\\Arquivos PDF, PPT, DOC\\Ciências de Dados - Anhanguera Ampli\\Inteligência Artificial\\Redes Neurais e Deep Learning\\RNA_Deep_Learning\\Unidade_I\\Aula_IV\\\\\"\n",
    "Image(filename = PATH + \"O Perceptron.png\", width=100, height=100)"
   ],
   "id": "aacdfad55d3e110f",
   "execution_count": 13,
   "outputs": []
  },
  {
   "metadata": {},
   "cell_type": "markdown",
   "source": [
    "**O Perceptron**\n",
    "\n",
    "Passo 1: sum(wi*xi) = x1*w1 + x2*w2 + x3*w3 + ...\n",
    "Passo 2: y = f(sum(wi*xi) + bias)"
   ],
   "id": "18b5f02ae5be560c"
  },
  {
   "metadata": {
    "ExecuteTime": {
     "end_time": "2024-05-31T03:19:08.098380Z",
     "start_time": "2024-05-31T03:19:08.083490Z"
    }
   },
   "cell_type": "code",
   "source": [
    "from IPython.display import Image\n",
    "\n",
    "PATH = r\"D:\\Users\\Nayan Couto\\Cloud Drive\\Documentos\\Arquivos PDF, PPT, DOC\\Ciências de Dados - Anhanguera Ampli\\Inteligência Artificial\\Redes Neurais e Deep Learning\\RNA_Deep_Learning\\Unidade_I\\Aula_IV\\\\\"\n",
    "Image(filename = PATH + \"Perceptron Multicamadas.png\", width=100, height=100)"
   ],
   "id": "df41ecb96194b9f",
   "execution_count": 14,
   "outputs": []
  },
  {
   "metadata": {},
   "cell_type": "markdown",
   "source": [
    "**Perceptron Multicamadas**\n",
    "\n",
    "O que ele faz:\n",
    "\n",
    "> Pelo menos 3 camadas totalmente conectadas.\n",
    "> O aprendizado ocorre alterando os pesos.\n",
    "> Ele pode aprender com dados não linearmente separados.\n",
    "> Ativação não-linear.\n",
    "\n",
    "Resumindo:\n",
    "\n",
    "> O Multilayer Perceptron (MLP) utiliza uma técnica de aprendizado supervisionado chamada retropropagação para o seu treinamento.\n",
    "> Útis para cenários complexos, como reconhecimento de imagem, classificação de dados e tradução automática."
   ],
   "id": "582d29804969ad74"
  },
  {
   "metadata": {},
   "cell_type": "markdown",
   "source": [
    "** Função de Ativação **\n",
    "\n",
    "Qual é a função da Função de Ativação?\n",
    "\n",
    "> Normalizar a entrada e produzir uma saída que é então transmitida para a camada subsequente.\n",
    "> Elas decidem se um neurônio deve ser ativado ou não; Se a informação que o neurônio está recebendo é relevante para a informação fornecida ou deve ser ignorada.\n",
    "\n",
    "y = Activation(sum(weights*inputs) + bias)"
   ],
   "id": "f6972212d31518f"
  },
  {
   "metadata": {},
   "cell_type": "code",
   "execution_count": 5,
   "source": [
    "import numpy, random, os\n",
    "\n",
    "lr = 1\n",
    "bias = 1\n",
    "weights = [random.random(), random.random(), random.random()]"
   ],
   "id": "initial_id",
   "outputs": []
  },
  {
   "metadata": {
    "ExecuteTime": {
     "end_time": "2024-05-31T02:17:51.302647Z",
     "start_time": "2024-05-31T02:17:51.295192Z"
    }
   },
   "cell_type": "code",
   "source": [
    "def Perceptron(input1, input2, output):\n",
    "    outputP = input1*weights[0] + input2*weights[1] + bias*weights[2]\n",
    "    if outputP > 0: # Função de Ativação\n",
    "        outputP = 1\n",
    "    else:\n",
    "        outputP = 0\n",
    "    error = output - outputP\n",
    "    weights[0] += error * input1 * lr\n",
    "    weights[1] += error * input2 * lr\n",
    "    weights[2] += error * bias * lr"
   ],
   "id": "971563631a8efa90",
   "execution_count": 6,
   "outputs": []
  },
  {
   "metadata": {
    "ExecuteTime": {
     "end_time": "2024-05-31T02:17:51.311798Z",
     "start_time": "2024-05-31T02:17:51.305652Z"
    }
   },
   "cell_type": "code",
   "source": [
    "for i in range (50) :\n",
    "    Perceptron(1,1,1) #True or true \n",
    "    Perceptron(1,0,1) #True or false \n",
    "    Perceptron(0,1,1) #False or true \n",
    "    Perceptron(0,0,0) #False or false"
   ],
   "id": "21fd0a6060f3f827",
   "execution_count": 7,
   "outputs": []
  },
  {
   "metadata": {
    "ExecuteTime": {
     "end_time": "2024-05-31T02:17:58.446546Z",
     "start_time": "2024-05-31T02:17:51.314802Z"
    }
   },
   "cell_type": "code",
   "source": [
    "x = int(input())\n",
    "y = int(input())\n",
    "outputP = x*weights[0] + y*weights[0] + bias*weights[2]\n",
    "if outputP > 0: # Função de Ativação\n",
    "    outputP = 1\n",
    "else:\n",
    "    outputP = 0\n",
    "print(x, \"or\", y, \"is: \", outputP)"
   ],
   "id": "bd550f8beea1426e",
   "execution_count": 8,
   "outputs": []
  },
  {
   "metadata": {},
   "cell_type": "markdown",
   "source": [
    "# Estudo de Caso\n",
    "**Rede neural em 5 minutos**"
   ],
   "id": "e8a955a68ea0c90c"
  },
  {
   "metadata": {
    "ExecuteTime": {
     "end_time": "2024-05-31T04:53:57.038236Z",
     "start_time": "2024-05-31T04:53:57.013666Z"
    }
   },
   "cell_type": "code",
   "source": [
    "import numpy as np\n",
    "\n",
    "def nonlin(x, deriv=False): #função sigmoide\n",
    "    if deriv == True:\n",
    "        return x*(1-x)\n",
    "    return 1/(1+np.exp(-x))"
   ],
   "id": "8ebe9a78dc862b84",
   "execution_count": 15,
   "outputs": []
  },
  {
   "metadata": {
    "ExecuteTime": {
     "end_time": "2024-05-31T04:55:46.175505Z",
     "start_time": "2024-05-31T04:55:46.168384Z"
    }
   },
   "cell_type": "code",
   "source": [
    "#Input data\n",
    "X = np.array([  \n",
    "                [0,0,1],\n",
    "                [0,1,1],\n",
    "                [1,0,1],\n",
    "                [1,1,1]\n",
    "            ])"
   ],
   "id": "705487b111081f69",
   "execution_count": 17,
   "outputs": []
  },
  {
   "metadata": {
    "ExecuteTime": {
     "end_time": "2024-05-31T04:56:11.059875Z",
     "start_time": "2024-05-31T04:56:11.053968Z"
    }
   },
   "cell_type": "code",
   "source": [
    "#Output data\n",
    "y = np.array([\n",
    "                [0],\n",
    "                [1],\n",
    "                [1],\n",
    "                [0]\n",
    "            ])"
   ],
   "id": "1bc07aa2ec515f64",
   "execution_count": 18,
   "outputs": []
  },
  {
   "metadata": {
    "ExecuteTime": {
     "end_time": "2024-05-31T05:01:20.231762Z",
     "start_time": "2024-05-31T05:01:16.088734Z"
    }
   },
   "cell_type": "code",
   "source": [
    "#Synapses\n",
    "np.random.seed(1)\n",
    "\n",
    "# Sinais de conexão entre as camadas\n",
    "np.random.seed(1)\n",
    "syn0 = 2*np.random.random((3,4)) - 1  # Conexões da camada de entrada (l0) para a camada oculta (l1)\n",
    "syn1 = 2*np.random.random((4,1)) - 1  # Conexões da camada oculta (l1) para a camada de saída (l2)\n",
    "\n",
    "# Treinamento\n",
    "for j in range(60000):\n",
    "    # Camada de entrada (l0)\n",
    "    l0 = X\n",
    "\n",
    "    # Camada oculta (l1)\n",
    "    l1 = nonlin(np.dot(l0,syn0))  # Calcula a saída da camada oculta usando as conexões syn0\n",
    "\n",
    "    # Camada de saída (l2)\n",
    "    l2 = nonlin(np.dot(l1,syn1))  # Calcula a saída da camada de saída usando as conexões syn1\n",
    "\n",
    "    # Erro da camada de saída\n",
    "    l2_error = y - l2\n",
    "\n",
    "    # Verifica o erro a cada 10.000 iterações\n",
    "    if (j% 10000) == 0:\n",
    "        print(\"Erro: \" + str(np.mean(np.abs(l2_error))))\n",
    "\n",
    "    # Cálculo do delta da camada de saída\n",
    "    l2_delta = l2_error*nonlin(l2, deriv=True)\n",
    "\n",
    "    # Cálculo do erro da camada oculta\n",
    "    l1_error = l2_delta.dot(syn1.T)\n",
    "\n",
    "    # Cálculo do delta da camada oculta\n",
    "    l1_delta = l1_error * nonlin(l1, deriv=True)\n",
    "\n",
    "    # Atualização das conexões syn1\n",
    "    syn1 += l1.T.dot(l2_delta)\n",
    "\n",
    "    # Atualização das conexões syn0\n",
    "    syn0 += l0.T.dot(l1_delta)\n",
    "\n",
    "# Saída após o treinamento\n",
    "print(\"Saída após o treinamento:\")\n",
    "print(l2)"
   ],
   "id": "fe0fe232b45a0308",
   "execution_count": 19,
   "outputs": []
  },
  {
   "metadata": {},
   "cell_type": "code",
   "execution_count": null,
   "source": "",
   "id": "e57e9a54cea9fe98",
   "outputs": []
  }
 ],
 "metadata": {
  "kernelspec": {
   "display_name": "Python 3",
   "language": "python",
   "name": "python3"
  },
  "language_info": {
   "codemirror_mode": {
    "name": "ipython",
    "version": 2
   },
   "file_extension": ".py",
   "mimetype": "text/x-python",
   "name": "python",
   "nbconvert_exporter": "python",
   "pygments_lexer": "ipython2",
   "version": "2.7.6"
  }
 },
 "nbformat": 4,
 "nbformat_minor": 5
}
